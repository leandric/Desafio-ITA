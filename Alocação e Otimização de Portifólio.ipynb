{
 "cells": [
  {
   "cell_type": "code",
   "execution_count": 1,
   "id": "8025278f",
   "metadata": {},
   "outputs": [],
   "source": [
    "import pandas as pd\n",
    "import numpy as np\n",
    "import math\n",
    "import matplotlib.pyplot as plt\n",
    "from scipy import stats\n",
    "import seaborn as sns\n",
    "import sys\n",
    "\n",
    "# Warnings remove \n",
    "import warnings\n",
    "warnings.filterwarnings(\"ignore\")\n",
    "\n",
    "df = pd.read_csv('bases/base_normal.csv')\n",
    "\n",
    "del df['index']\n",
    "\n",
    "df['Dia'] = pd.to_datetime(df['Dia'])\n",
    "df = df.set_index('Dia')\n",
    "\n",
    "#Calcula a taxa de retorno diaria de cada ativo\n",
    "ret_diario = df.copy()\n",
    "for ativo in df.columns: \n",
    "    ret_diario[ativo]=(df[ativo]/df[ativo].shift(1))-1\n",
    "\n",
    "#Calcula a taxa de retorno anual de cada ativo, \n",
    "#considerando o primeiro dia util com valor do ativo e o ultimo dia util com valor do mesmo\n",
    "ret_anual = pd.DataFrame()\n",
    "ret_anual.set_index = list(df.index.year.unique())\n",
    "for ativo in df.columns:\n",
    "    anos = list(df[ativo].index.year.unique())\n",
    "    index = []\n",
    "    tx_anual = []\n",
    "    for ano in anos:\n",
    "        tx_retorno_ano = (df.loc[df[df.index.year == ano][ativo].index[-1]][ativo]/df.loc[df[df.index.year == ano][ativo].index[0]][ativo])-1\n",
    "        index.append(ano)\n",
    "        tx_anual.append(tx_retorno_ano)\n",
    "    dff = pd.DataFrame({ativo:tx_anual}, index=index)\n",
    "    ret_anual[ativo] = dff[ativo]\n",
    "    \n",
    "#Calcula a taxa de retorno anual logaritmica de cada ativo, \n",
    "#considerando o primeiro dia util com valor do ativo e o ultimo dia util com valor do mesmo\n",
    "ret_anual_log = pd.DataFrame()\n",
    "ret_anual_log.set_index = list(df.index.year.unique())\n",
    "for ativo in df.columns:\n",
    "    anos = list(df[ativo].index.year.unique())\n",
    "    index = []\n",
    "    tx_anual = []\n",
    "    for ano in anos:\n",
    "        tx_retorno_ano = np.log((df.loc[df[df.index.year == ano][ativo].index[-1]][ativo]/df.loc[df[df.index.year == ano][ativo].index[0]][ativo]))\n",
    "        index.append(ano)\n",
    "        tx_anual.append(tx_retorno_ano)\n",
    "    dff = pd.DataFrame({ativo:tx_anual}, index=index)\n",
    "    ret_anual_log[ativo] = dff[ativo]\n",
    "    \n",
    "# ret_anual df de retorno anual\n",
    "# ret_anual_log df de retorno anual logaritmica\n",
    "# ret_diario df de retorno diarios\n",
    "# df base crua diaria"
   ]
  },
  {
   "cell_type": "code",
   "execution_count": 2,
   "id": "9d412165",
   "metadata": {},
   "outputs": [],
   "source": [
    "df = df[['A','AAL','AAP','AAPL','ABBV','ABC','ABMD','ABT','ACN','ADBE']].copy()"
   ]
  },
  {
   "cell_type": "markdown",
   "id": "139e9b8d",
   "metadata": {},
   "source": [
    "# Tabela de retornos\n",
    "Objetivo é calcular os retornos possiveis se tivesse investido 5.000 dolares distriuido nestas ações a partir de 2021"
   ]
  },
  {
   "cell_type": "code",
   "execution_count": 3,
   "id": "435b9900",
   "metadata": {},
   "outputs": [
    {
     "data": {
      "text/html": [
       "<div>\n",
       "<style scoped>\n",
       "    .dataframe tbody tr th:only-of-type {\n",
       "        vertical-align: middle;\n",
       "    }\n",
       "\n",
       "    .dataframe tbody tr th {\n",
       "        vertical-align: top;\n",
       "    }\n",
       "\n",
       "    .dataframe thead th {\n",
       "        text-align: right;\n",
       "    }\n",
       "</style>\n",
       "<table border=\"1\" class=\"dataframe\">\n",
       "  <thead>\n",
       "    <tr style=\"text-align: right;\">\n",
       "      <th></th>\n",
       "      <th>A</th>\n",
       "      <th>AAL</th>\n",
       "      <th>AAP</th>\n",
       "      <th>AAPL</th>\n",
       "      <th>ABBV</th>\n",
       "      <th>ABC</th>\n",
       "      <th>ABMD</th>\n",
       "      <th>ABT</th>\n",
       "      <th>ACN</th>\n",
       "      <th>ADBE</th>\n",
       "    </tr>\n",
       "    <tr>\n",
       "      <th>Dia</th>\n",
       "      <th></th>\n",
       "      <th></th>\n",
       "      <th></th>\n",
       "      <th></th>\n",
       "      <th></th>\n",
       "      <th></th>\n",
       "      <th></th>\n",
       "      <th></th>\n",
       "      <th></th>\n",
       "      <th></th>\n",
       "    </tr>\n",
       "  </thead>\n",
       "  <tbody>\n",
       "    <tr>\n",
       "      <th>2021-01-04</th>\n",
       "      <td>118.639999</td>\n",
       "      <td>15.13</td>\n",
       "      <td>157.339996</td>\n",
       "      <td>129.410004</td>\n",
       "      <td>105.410004</td>\n",
       "      <td>96.500000</td>\n",
       "      <td>316.730011</td>\n",
       "      <td>109.110001</td>\n",
       "      <td>256.459991</td>\n",
       "      <td>485.339996</td>\n",
       "    </tr>\n",
       "    <tr>\n",
       "      <th>2021-01-05</th>\n",
       "      <td>119.610001</td>\n",
       "      <td>15.43</td>\n",
       "      <td>157.169998</td>\n",
       "      <td>131.009995</td>\n",
       "      <td>106.500000</td>\n",
       "      <td>97.760002</td>\n",
       "      <td>322.600006</td>\n",
       "      <td>110.459999</td>\n",
       "      <td>257.920013</td>\n",
       "      <td>485.690002</td>\n",
       "    </tr>\n",
       "    <tr>\n",
       "      <th>2021-01-06</th>\n",
       "      <td>122.889999</td>\n",
       "      <td>15.52</td>\n",
       "      <td>166.250000</td>\n",
       "      <td>126.599998</td>\n",
       "      <td>105.580002</td>\n",
       "      <td>106.169998</td>\n",
       "      <td>321.609985</td>\n",
       "      <td>110.230003</td>\n",
       "      <td>260.739990</td>\n",
       "      <td>466.309998</td>\n",
       "    </tr>\n",
       "    <tr>\n",
       "      <th>2021-01-07</th>\n",
       "      <td>126.160004</td>\n",
       "      <td>15.38</td>\n",
       "      <td>167.669998</td>\n",
       "      <td>130.919998</td>\n",
       "      <td>106.709999</td>\n",
       "      <td>110.129997</td>\n",
       "      <td>323.559998</td>\n",
       "      <td>111.300003</td>\n",
       "      <td>263.200012</td>\n",
       "      <td>477.739990</td>\n",
       "    </tr>\n",
       "    <tr>\n",
       "      <th>2021-01-08</th>\n",
       "      <td>127.059998</td>\n",
       "      <td>15.13</td>\n",
       "      <td>170.059998</td>\n",
       "      <td>132.050003</td>\n",
       "      <td>107.269997</td>\n",
       "      <td>110.029999</td>\n",
       "      <td>324.059998</td>\n",
       "      <td>111.610001</td>\n",
       "      <td>264.160004</td>\n",
       "      <td>485.100006</td>\n",
       "    </tr>\n",
       "  </tbody>\n",
       "</table>\n",
       "</div>"
      ],
      "text/plain": [
       "                     A    AAL         AAP        AAPL        ABBV         ABC  \\\n",
       "Dia                                                                             \n",
       "2021-01-04  118.639999  15.13  157.339996  129.410004  105.410004   96.500000   \n",
       "2021-01-05  119.610001  15.43  157.169998  131.009995  106.500000   97.760002   \n",
       "2021-01-06  122.889999  15.52  166.250000  126.599998  105.580002  106.169998   \n",
       "2021-01-07  126.160004  15.38  167.669998  130.919998  106.709999  110.129997   \n",
       "2021-01-08  127.059998  15.13  170.059998  132.050003  107.269997  110.029999   \n",
       "\n",
       "                  ABMD         ABT         ACN        ADBE  \n",
       "Dia                                                         \n",
       "2021-01-04  316.730011  109.110001  256.459991  485.339996  \n",
       "2021-01-05  322.600006  110.459999  257.920013  485.690002  \n",
       "2021-01-06  321.609985  110.230003  260.739990  466.309998  \n",
       "2021-01-07  323.559998  111.300003  263.200012  477.739990  \n",
       "2021-01-08  324.059998  111.610001  264.160004  485.100006  "
      ]
     },
     "execution_count": 3,
     "metadata": {},
     "output_type": "execute_result"
    }
   ],
   "source": [
    "df = df[df.index.year>=2021]\n",
    "df.head()"
   ]
  },
  {
   "cell_type": "markdown",
   "id": "96d1a83a",
   "metadata": {},
   "source": [
    "# Alocação ativos"
   ]
  },
  {
   "cell_type": "code",
   "execution_count": 4,
   "id": "07f89a79",
   "metadata": {},
   "outputs": [],
   "source": [
    "def alocacao_ativos(dataset, dinheiro_total, seed = 0, melhores_pesos=[]):\n",
    "    dataset = dataset.copy()\n",
    "    \n",
    "    np.random.seed(seed)\n",
    "    \n",
    "    if len(melhores_pesos) >0:\n",
    "        pesos= melhores_pesos\n",
    "    else:\n",
    "        pesos = np.random.random(len(dataset.columns))\n",
    "        pesos = pesos / pesos.sum()\n",
    "        \n",
    "    colunas = dataset.columns\n",
    "    for i in colunas:\n",
    "        dataset[i] = (dataset[i] / dataset[i][0])\n",
    "        \n",
    "    for i, acao in enumerate(dataset.columns):\n",
    "        dataset[acao] = dataset[acao] * pesos[i] * dinheiro_total\n",
    "        \n",
    "    dataset['VALOR_TOTAL'] = dataset.sum(axis=1)\n",
    "    dataset['TAXA_RETORNO'] = 0\n",
    "    \n",
    "    for i in range(1, len(dataset)):\n",
    "        dataset['TAXA_RETORNO'][i] = ((dataset['VALOR_TOTAL'][i] / dataset['VALOR_TOTAL'][i-1])) -1\n",
    "        \n",
    "    acoes_pesos = pd.DataFrame({'Ativos':colunas, 'Pesos':pesos})\n",
    "    \n",
    "    return dataset, acoes_pesos, dataset['VALOR_TOTAL'][-1]"
   ]
  },
  {
   "cell_type": "code",
   "execution_count": 5,
   "id": "9dc668bb",
   "metadata": {},
   "outputs": [],
   "source": [
    "df_retorno, p, valor_final = alocacao_ativos(df, 5000, 10)"
   ]
  },
  {
   "cell_type": "code",
   "execution_count": 6,
   "id": "969de948",
   "metadata": {},
   "outputs": [
    {
     "data": {
      "text/plain": [
       "5558.49"
      ]
     },
     "execution_count": 6,
     "metadata": {},
     "output_type": "execute_result"
    }
   ],
   "source": [
    "valor_final.round(2)"
   ]
  },
  {
   "cell_type": "code",
   "execution_count": 7,
   "id": "75a8b052",
   "metadata": {},
   "outputs": [
    {
     "data": {
      "text/html": [
       "<div>\n",
       "<style scoped>\n",
       "    .dataframe tbody tr th:only-of-type {\n",
       "        vertical-align: middle;\n",
       "    }\n",
       "\n",
       "    .dataframe tbody tr th {\n",
       "        vertical-align: top;\n",
       "    }\n",
       "\n",
       "    .dataframe thead th {\n",
       "        text-align: right;\n",
       "    }\n",
       "</style>\n",
       "<table border=\"1\" class=\"dataframe\">\n",
       "  <thead>\n",
       "    <tr style=\"text-align: right;\">\n",
       "      <th></th>\n",
       "      <th>Ativos</th>\n",
       "      <th>Pesos</th>\n",
       "    </tr>\n",
       "  </thead>\n",
       "  <tbody>\n",
       "    <tr>\n",
       "      <th>0</th>\n",
       "      <td>A</td>\n",
       "      <td>0.187493</td>\n",
       "    </tr>\n",
       "    <tr>\n",
       "      <th>1</th>\n",
       "      <td>AAL</td>\n",
       "      <td>0.005044</td>\n",
       "    </tr>\n",
       "    <tr>\n",
       "      <th>2</th>\n",
       "      <td>AAP</td>\n",
       "      <td>0.154027</td>\n",
       "    </tr>\n",
       "    <tr>\n",
       "      <th>3</th>\n",
       "      <td>AAPL</td>\n",
       "      <td>0.182019</td>\n",
       "    </tr>\n",
       "    <tr>\n",
       "      <th>4</th>\n",
       "      <td>ABBV</td>\n",
       "      <td>0.121177</td>\n",
       "    </tr>\n",
       "    <tr>\n",
       "      <th>5</th>\n",
       "      <td>ABC</td>\n",
       "      <td>0.054644</td>\n",
       "    </tr>\n",
       "    <tr>\n",
       "      <th>6</th>\n",
       "      <td>ABMD</td>\n",
       "      <td>0.048145</td>\n",
       "    </tr>\n",
       "    <tr>\n",
       "      <th>7</th>\n",
       "      <td>ABT</td>\n",
       "      <td>0.184870</td>\n",
       "    </tr>\n",
       "    <tr>\n",
       "      <th>8</th>\n",
       "      <td>ACN</td>\n",
       "      <td>0.041107</td>\n",
       "    </tr>\n",
       "    <tr>\n",
       "      <th>9</th>\n",
       "      <td>ADBE</td>\n",
       "      <td>0.021474</td>\n",
       "    </tr>\n",
       "  </tbody>\n",
       "</table>\n",
       "</div>"
      ],
      "text/plain": [
       "  Ativos     Pesos\n",
       "0      A  0.187493\n",
       "1    AAL  0.005044\n",
       "2    AAP  0.154027\n",
       "3   AAPL  0.182019\n",
       "4   ABBV  0.121177\n",
       "5    ABC  0.054644\n",
       "6   ABMD  0.048145\n",
       "7    ABT  0.184870\n",
       "8    ACN  0.041107\n",
       "9   ADBE  0.021474"
      ]
     },
     "execution_count": 7,
     "metadata": {},
     "output_type": "execute_result"
    }
   ],
   "source": [
    "p"
   ]
  },
  {
   "cell_type": "code",
   "execution_count": 8,
   "id": "98bac08d",
   "metadata": {},
   "outputs": [
    {
     "data": {
      "text/html": [
       "<div>\n",
       "<style scoped>\n",
       "    .dataframe tbody tr th:only-of-type {\n",
       "        vertical-align: middle;\n",
       "    }\n",
       "\n",
       "    .dataframe tbody tr th {\n",
       "        vertical-align: top;\n",
       "    }\n",
       "\n",
       "    .dataframe thead th {\n",
       "        text-align: right;\n",
       "    }\n",
       "</style>\n",
       "<table border=\"1\" class=\"dataframe\">\n",
       "  <thead>\n",
       "    <tr style=\"text-align: right;\">\n",
       "      <th></th>\n",
       "      <th>A</th>\n",
       "      <th>AAL</th>\n",
       "      <th>AAP</th>\n",
       "      <th>AAPL</th>\n",
       "      <th>ABBV</th>\n",
       "      <th>ABC</th>\n",
       "      <th>ABMD</th>\n",
       "      <th>ABT</th>\n",
       "      <th>ACN</th>\n",
       "      <th>ADBE</th>\n",
       "      <th>VALOR_TOTAL</th>\n",
       "      <th>TAXA_RETORNO</th>\n",
       "    </tr>\n",
       "    <tr>\n",
       "      <th>Dia</th>\n",
       "      <th></th>\n",
       "      <th></th>\n",
       "      <th></th>\n",
       "      <th></th>\n",
       "      <th></th>\n",
       "      <th></th>\n",
       "      <th></th>\n",
       "      <th></th>\n",
       "      <th></th>\n",
       "      <th></th>\n",
       "      <th></th>\n",
       "      <th></th>\n",
       "    </tr>\n",
       "  </thead>\n",
       "  <tbody>\n",
       "    <tr>\n",
       "      <th>2021-01-04</th>\n",
       "      <td>937.462969</td>\n",
       "      <td>25.221915</td>\n",
       "      <td>770.135949</td>\n",
       "      <td>910.096102</td>\n",
       "      <td>605.885332</td>\n",
       "      <td>273.217802</td>\n",
       "      <td>240.725570</td>\n",
       "      <td>924.348888</td>\n",
       "      <td>205.537280</td>\n",
       "      <td>107.368194</td>\n",
       "      <td>5000.000000</td>\n",
       "      <td>0.000000</td>\n",
       "    </tr>\n",
       "    <tr>\n",
       "      <th>2021-01-05</th>\n",
       "      <td>945.127671</td>\n",
       "      <td>25.722020</td>\n",
       "      <td>769.303855</td>\n",
       "      <td>921.348288</td>\n",
       "      <td>612.150513</td>\n",
       "      <td>276.785211</td>\n",
       "      <td>245.186965</td>\n",
       "      <td>935.785692</td>\n",
       "      <td>206.707400</td>\n",
       "      <td>107.445623</td>\n",
       "      <td>5045.563237</td>\n",
       "      <td>0.009113</td>\n",
       "    </tr>\n",
       "    <tr>\n",
       "      <th>2021-01-06</th>\n",
       "      <td>971.045383</td>\n",
       "      <td>25.872051</td>\n",
       "      <td>813.747963</td>\n",
       "      <td>890.334301</td>\n",
       "      <td>606.862463</td>\n",
       "      <td>300.596202</td>\n",
       "      <td>244.434516</td>\n",
       "      <td>933.837233</td>\n",
       "      <td>208.967442</td>\n",
       "      <td>103.158327</td>\n",
       "      <td>5098.855881</td>\n",
       "      <td>0.010562</td>\n",
       "    </tr>\n",
       "    <tr>\n",
       "      <th>2021-01-07</th>\n",
       "      <td>996.884121</td>\n",
       "      <td>25.638669</td>\n",
       "      <td>820.698463</td>\n",
       "      <td>920.715374</td>\n",
       "      <td>613.357565</td>\n",
       "      <td>311.808039</td>\n",
       "      <td>245.916591</td>\n",
       "      <td>942.901966</td>\n",
       "      <td>210.939002</td>\n",
       "      <td>105.686901</td>\n",
       "      <td>5194.546691</td>\n",
       "      <td>0.018767</td>\n",
       "    </tr>\n",
       "    <tr>\n",
       "      <th>2021-01-08</th>\n",
       "      <td>1003.995643</td>\n",
       "      <td>25.221915</td>\n",
       "      <td>832.396852</td>\n",
       "      <td>928.662311</td>\n",
       "      <td>616.576371</td>\n",
       "      <td>311.524916</td>\n",
       "      <td>246.296608</td>\n",
       "      <td>945.528177</td>\n",
       "      <td>211.708377</td>\n",
       "      <td>107.315103</td>\n",
       "      <td>5229.226273</td>\n",
       "      <td>0.006676</td>\n",
       "    </tr>\n",
       "    <tr>\n",
       "      <th>...</th>\n",
       "      <td>...</td>\n",
       "      <td>...</td>\n",
       "      <td>...</td>\n",
       "      <td>...</td>\n",
       "      <td>...</td>\n",
       "      <td>...</td>\n",
       "      <td>...</td>\n",
       "      <td>...</td>\n",
       "      <td>...</td>\n",
       "      <td>...</td>\n",
       "      <td>...</td>\n",
       "      <td>...</td>\n",
       "    </tr>\n",
       "    <tr>\n",
       "      <th>2022-08-24</th>\n",
       "      <td>1056.226180</td>\n",
       "      <td>23.321519</td>\n",
       "      <td>880.609919</td>\n",
       "      <td>1178.180933</td>\n",
       "      <td>792.691826</td>\n",
       "      <td>419.679519</td>\n",
       "      <td>203.719513</td>\n",
       "      <td>893.257708</td>\n",
       "      <td>245.449003</td>\n",
       "      <td>89.738961</td>\n",
       "      <td>5782.875082</td>\n",
       "      <td>-0.015452</td>\n",
       "    </tr>\n",
       "    <tr>\n",
       "      <th>2022-08-25</th>\n",
       "      <td>1074.716233</td>\n",
       "      <td>24.038336</td>\n",
       "      <td>885.896230</td>\n",
       "      <td>1195.762574</td>\n",
       "      <td>800.853822</td>\n",
       "      <td>425.880013</td>\n",
       "      <td>208.591334</td>\n",
       "      <td>897.069954</td>\n",
       "      <td>248.262041</td>\n",
       "      <td>89.358458</td>\n",
       "      <td>5850.428996</td>\n",
       "      <td>0.011682</td>\n",
       "    </tr>\n",
       "    <tr>\n",
       "      <th>2022-08-26</th>\n",
       "      <td>1026.199526</td>\n",
       "      <td>22.904766</td>\n",
       "      <td>849.675223</td>\n",
       "      <td>1150.683220</td>\n",
       "      <td>783.725128</td>\n",
       "      <td>413.903742</td>\n",
       "      <td>196.179966</td>\n",
       "      <td>863.267827</td>\n",
       "      <td>238.933293</td>\n",
       "      <td>84.290247</td>\n",
       "      <td>5629.762939</td>\n",
       "      <td>-0.037718</td>\n",
       "    </tr>\n",
       "    <tr>\n",
       "      <th>2022-08-29</th>\n",
       "      <td>1012.292499</td>\n",
       "      <td>22.521354</td>\n",
       "      <td>834.746298</td>\n",
       "      <td>1134.930138</td>\n",
       "      <td>780.046481</td>\n",
       "      <td>417.584405</td>\n",
       "      <td>195.313540</td>\n",
       "      <td>862.759480</td>\n",
       "      <td>236.536995</td>\n",
       "      <td>83.016009</td>\n",
       "      <td>5579.747200</td>\n",
       "      <td>-0.008884</td>\n",
       "    </tr>\n",
       "    <tr>\n",
       "      <th>2022-08-30</th>\n",
       "      <td>1013.635781</td>\n",
       "      <td>22.221291</td>\n",
       "      <td>834.403707</td>\n",
       "      <td>1117.559468</td>\n",
       "      <td>779.126797</td>\n",
       "      <td>411.751947</td>\n",
       "      <td>196.582783</td>\n",
       "      <td>865.809303</td>\n",
       "      <td>234.421182</td>\n",
       "      <td>82.973976</td>\n",
       "      <td>5558.486236</td>\n",
       "      <td>-0.003810</td>\n",
       "    </tr>\n",
       "  </tbody>\n",
       "</table>\n",
       "<p>418 rows × 12 columns</p>\n",
       "</div>"
      ],
      "text/plain": [
       "                      A        AAL         AAP         AAPL        ABBV  \\\n",
       "Dia                                                                       \n",
       "2021-01-04   937.462969  25.221915  770.135949   910.096102  605.885332   \n",
       "2021-01-05   945.127671  25.722020  769.303855   921.348288  612.150513   \n",
       "2021-01-06   971.045383  25.872051  813.747963   890.334301  606.862463   \n",
       "2021-01-07   996.884121  25.638669  820.698463   920.715374  613.357565   \n",
       "2021-01-08  1003.995643  25.221915  832.396852   928.662311  616.576371   \n",
       "...                 ...        ...         ...          ...         ...   \n",
       "2022-08-24  1056.226180  23.321519  880.609919  1178.180933  792.691826   \n",
       "2022-08-25  1074.716233  24.038336  885.896230  1195.762574  800.853822   \n",
       "2022-08-26  1026.199526  22.904766  849.675223  1150.683220  783.725128   \n",
       "2022-08-29  1012.292499  22.521354  834.746298  1134.930138  780.046481   \n",
       "2022-08-30  1013.635781  22.221291  834.403707  1117.559468  779.126797   \n",
       "\n",
       "                   ABC        ABMD         ABT         ACN        ADBE  \\\n",
       "Dia                                                                      \n",
       "2021-01-04  273.217802  240.725570  924.348888  205.537280  107.368194   \n",
       "2021-01-05  276.785211  245.186965  935.785692  206.707400  107.445623   \n",
       "2021-01-06  300.596202  244.434516  933.837233  208.967442  103.158327   \n",
       "2021-01-07  311.808039  245.916591  942.901966  210.939002  105.686901   \n",
       "2021-01-08  311.524916  246.296608  945.528177  211.708377  107.315103   \n",
       "...                ...         ...         ...         ...         ...   \n",
       "2022-08-24  419.679519  203.719513  893.257708  245.449003   89.738961   \n",
       "2022-08-25  425.880013  208.591334  897.069954  248.262041   89.358458   \n",
       "2022-08-26  413.903742  196.179966  863.267827  238.933293   84.290247   \n",
       "2022-08-29  417.584405  195.313540  862.759480  236.536995   83.016009   \n",
       "2022-08-30  411.751947  196.582783  865.809303  234.421182   82.973976   \n",
       "\n",
       "            VALOR_TOTAL  TAXA_RETORNO  \n",
       "Dia                                    \n",
       "2021-01-04  5000.000000      0.000000  \n",
       "2021-01-05  5045.563237      0.009113  \n",
       "2021-01-06  5098.855881      0.010562  \n",
       "2021-01-07  5194.546691      0.018767  \n",
       "2021-01-08  5229.226273      0.006676  \n",
       "...                 ...           ...  \n",
       "2022-08-24  5782.875082     -0.015452  \n",
       "2022-08-25  5850.428996      0.011682  \n",
       "2022-08-26  5629.762939     -0.037718  \n",
       "2022-08-29  5579.747200     -0.008884  \n",
       "2022-08-30  5558.486236     -0.003810  \n",
       "\n",
       "[418 rows x 12 columns]"
      ]
     },
     "execution_count": 8,
     "metadata": {},
     "output_type": "execute_result"
    }
   ],
   "source": [
    "df_retorno"
   ]
  },
  {
   "cell_type": "code",
   "execution_count": 9,
   "id": "4b433215",
   "metadata": {},
   "outputs": [
    {
     "data": {
      "text/plain": [
       "<AxesSubplot: xlabel='Dia'>"
      ]
     },
     "execution_count": 9,
     "metadata": {},
     "output_type": "execute_result"
    },
    {
     "data": {
      "image/png": "[encoded data removed]",
      "text/plain": [
       "<Figure size 640x480 with 1 Axes>"
      ]
     },
     "metadata": {},
     "output_type": "display_data"
    }
   ],
   "source": [
    "df_retorno['VALOR_TOTAL'].plot()"
   ]
  },
  {
   "cell_type": "code",
   "execution_count": 10,
   "id": "b361a904",
   "metadata": {},
   "outputs": [
    {
     "data": {
      "text/plain": [
       "0.011570170828025805"
      ]
     },
     "execution_count": 10,
     "metadata": {},
     "output_type": "execute_result"
    }
   ],
   "source": [
    "df_retorno['TAXA_RETORNO'].std() "
   ]
  },
  {
   "cell_type": "markdown",
   "id": "d57efb84",
   "metadata": {},
   "source": [
    "# Sharpe Ratio\n",
    "Combina o retorno do investimento comparado com o risco"
   ]
  },
  {
   "cell_type": "markdown",
   "id": "3fa0cfb8",
   "metadata": {},
   "source": [
    "Retorno acumulado em todo o periodo"
   ]
  },
  {
   "cell_type": "code",
   "execution_count": 11,
   "id": "86a3ba72",
   "metadata": {},
   "outputs": [
    {
     "data": {
      "text/plain": [
       "0.11169724716876361"
      ]
     },
     "execution_count": 11,
     "metadata": {},
     "output_type": "execute_result"
    }
   ],
   "source": [
    "df_retorno.loc[df_retorno.index[-1]]['VALOR_TOTAL'] / df_retorno.loc[df_retorno.index[0]]['VALOR_TOTAL'] -1"
   ]
  },
  {
   "cell_type": "markdown",
   "id": "42184828",
   "metadata": {},
   "source": [
    "# Desvio Padrão"
   ]
  },
  {
   "cell_type": "code",
   "execution_count": 12,
   "id": "e0ce1331",
   "metadata": {},
   "outputs": [
    {
     "data": {
      "text/plain": [
       "0.011570170828025805"
      ]
     },
     "execution_count": 12,
     "metadata": {},
     "output_type": "execute_result"
    }
   ],
   "source": [
    "df_retorno['TAXA_RETORNO'].std() "
   ]
  },
  {
   "cell_type": "markdown",
   "id": "f742a529",
   "metadata": {},
   "source": [
    "## Sharpe Ratio\n",
    "Quanto maior melhor"
   ]
  },
  {
   "cell_type": "code",
   "execution_count": 13,
   "id": "46ee1eea",
   "metadata": {},
   "outputs": [
    {
     "data": {
      "text/plain": [
       "0.43421504990844517"
      ]
     },
     "execution_count": 13,
     "metadata": {},
     "output_type": "execute_result"
    }
   ],
   "source": [
    "(df_retorno['TAXA_RETORNO'].mean() / df_retorno['TAXA_RETORNO'].std()) * np.sqrt(246)"
   ]
  },
  {
   "cell_type": "code",
   "execution_count": 14,
   "id": "b7fe6379",
   "metadata": {},
   "outputs": [
    {
     "data": {
      "text/plain": [
       "558.4862358438177"
      ]
     },
     "execution_count": 14,
     "metadata": {},
     "output_type": "execute_result"
    }
   ],
   "source": [
    "#Risk Free\n",
    "dinheiro_t = 5000\n",
    "valor_final - dinheiro_t"
   ]
  },
  {
   "cell_type": "code",
   "execution_count": 15,
   "id": "989c7186",
   "metadata": {},
   "outputs": [],
   "source": [
    "taxa_selic_2021 =8\n",
    "taxa_selic_2022 = 8\n",
    "\n"
   ]
  },
  {
   "cell_type": "code",
   "execution_count": 16,
   "id": "d1f78ebe",
   "metadata": {},
   "outputs": [
    {
     "data": {
      "text/plain": [
       "5400.0"
      ]
     },
     "execution_count": 16,
     "metadata": {},
     "output_type": "execute_result"
    }
   ],
   "source": [
    "valor_2021= dinheiro_t + (dinheiro_t * taxa_selic_2021 / 100)\n",
    "valor_2021"
   ]
  },
  {
   "cell_type": "markdown",
   "id": "7e949587",
   "metadata": {},
   "source": [
    "# Alocação de Markowitz\n",
    "https://www.suno.com.br/tudo-sobre/harry-markowitz/"
   ]
  },
  {
   "cell_type": "code",
   "execution_count": 130,
   "id": "97928665",
   "metadata": {},
   "outputs": [],
   "source": [
    "def alocacao_ativos(dataset, dinheiro_total, seed = 0, melhores_pesos = []):\n",
    "    dataset = dataset.copy()\n",
    "\n",
    "    if seed != 0:\n",
    "        np.random.seed(seed)\n",
    "\n",
    "    if len(melhores_pesos) > 0:\n",
    "        pesos = melhores_pesos\n",
    "    else:  \n",
    "        pesos = np.random.random(len(dataset.columns))\n",
    "        #print(pesos, pesos.sum())\n",
    "        pesos = pesos / pesos.sum()\n",
    "        #print(pesos, pesos.sum())\n",
    "\n",
    "    colunas = dataset.columns\n",
    "  #print(colunas)\n",
    "    for i in colunas:\n",
    "        dataset[i] = (dataset[i] / dataset[i][0])\n",
    "\n",
    "    for i, acao in enumerate(dataset.columns):\n",
    "        #print(i, acao)\n",
    "        dataset[acao] = dataset[acao] * pesos[i] * dinheiro_total\n",
    "  \n",
    "    dataset['soma valor'] = dataset.sum(axis = 1)\n",
    "\n",
    "    datas = dataset.index\n",
    "    #print(datas)\n",
    "\n",
    "    dataset['taxa retorno'] = 0.0\n",
    "\n",
    "    for i in range(1, len(dataset)):\n",
    "        dataset['taxa retorno'][i] = ((dataset['soma valor'][i] / dataset['soma valor'][i - 1]) - 1) * 100\n",
    "\n",
    "    acoes_pesos = pd.DataFrame(data = {'Ações': colunas, 'Pesos': pesos * 100})\n",
    "\n",
    "    return dataset, datas, acoes_pesos, dataset['soma valor'][-1]"
   ]
  },
  {
   "cell_type": "code",
   "execution_count": 131,
   "id": "2fbb76fd",
   "metadata": {},
   "outputs": [],
   "source": [
    "def alocacao_portfolio(dataset, dinheiro_total, sem_risco, repeticoes):\n",
    "    dataset = dataset.copy()\n",
    "    dataset_original = dataset.copy()\n",
    "\n",
    "    lista_retorno_esperado = []\n",
    "    lista_volatilidade_esperada = []\n",
    "    lista_sharpe_ratio = []\n",
    "\n",
    "    melhor_sharpe_ratio = 1 - sys.maxsize\n",
    "    melhores_pesos = np.empty\n",
    "    melhor_volatilidade = 0\n",
    "    melhor_retorno = 0\n",
    "\n",
    "    for _ in range(repeticoes):\n",
    "        pesos = np.random.random(len(dataset.columns))\n",
    "        pesos = pesos / pesos.sum()\n",
    "\n",
    "    for i in dataset.columns:\n",
    "        dataset[i] = dataset[i] / dataset[i][0]\n",
    "\n",
    "    for i, acao in enumerate(dataset.columns):\n",
    "        dataset[acao] = dataset[acao] * pesos[i] * dinheiro_total\n",
    "    \n",
    "\n",
    "    retorno_carteira = np.log(dataset / dataset.shift(1))\n",
    "    matriz_covariancia = retorno_carteira.cov()\n",
    "\n",
    "    dataset['soma valor'] = dataset.sum(axis = 1)\n",
    "    dataset['taxa retorno'] = 0.0\n",
    "\n",
    "    for i in range(1, len(dataset)):\n",
    "        dataset['taxa retorno'][i] = np.log(dataset['soma valor'][i] / dataset['soma valor'][i - 1])\n",
    "\n",
    "    #sharpe_ratio = (dataset['taxa retorno'].mean() - sem_risco) / dataset['taxa retorno'].std() * np.sqrt(246)\n",
    "    retorno_esperado = np.sum(dataset['taxa retorno'].mean() * pesos) * 246\n",
    "    volatilidade_esperada = np.sqrt(np.dot(pesos, np.dot(matriz_covariancia * 246, pesos)))\n",
    "    sharpe_ratio = (retorno_esperado - sem_risco) / volatilidade_esperada\n",
    "\n",
    "    if sharpe_ratio > melhor_sharpe_ratio:\n",
    "        melhor_sharpe_ratio = sharpe_ratio\n",
    "        melhores_pesos = pesos\n",
    "        melhor_volatilidade = volatilidade_esperada\n",
    "        melhor_retorno = retorno_esperado\n",
    "\n",
    "    lista_retorno_esperado.append(retorno_esperado)\n",
    "    lista_volatilidade_esperada.append(volatilidade_esperada)\n",
    "    lista_sharpe_ratio.append(sharpe_ratio)\n",
    "\n",
    "    dataset = dataset_original.copy()\n",
    "\n",
    "    return melhor_sharpe_ratio, melhores_pesos, lista_retorno_esperado, lista_volatilidade_esperada, lista_sharpe_ratio, melhor_volatilidade, melhor_retorno"
   ]
  },
  {
   "cell_type": "code",
   "execution_count": 132,
   "id": "20dd0ab5",
   "metadata": {
    "scrolled": true
   },
   "outputs": [],
   "source": [
    "sharp_ratio, melhores_pesos, ls_retorno, ls_volatilidade, ls_sharpe_ratio, melhor_volatilidade, melhor_retorno= alocacao_portfolio(df, 5000, 0.8, 1000)"
   ]
  },
  {
   "cell_type": "code",
   "execution_count": 137,
   "id": "2090037c",
   "metadata": {
    "scrolled": true
   },
   "outputs": [
    {
     "ename": "ValueError",
     "evalue": "too many values to unpack (expected 3)",
     "output_type": "error",
     "traceback": [
      "\u001b[0;31m---------------------------------------------------------------------------\u001b[0m",
      "\u001b[0;31mValueError\u001b[0m                                Traceback (most recent call last)",
      "Cell \u001b[0;32mIn [137], line 1\u001b[0m\n\u001b[0;32m----> 1\u001b[0m df_retorno, pesos, total \u001b[38;5;241m=\u001b[39m alocacao_ativos(df, \u001b[38;5;241m5000\u001b[39m, \u001b[38;5;241m0\u001b[39m,melhores_pesos)\n",
      "\u001b[0;31mValueError\u001b[0m: too many values to unpack (expected 3)"
     ]
    }
   ],
   "source": [
    "df_retorno, pesos, total = alocacao_ativos(df, 5000, 0,melhores_pesos)\n"
   ]
  },
  {
   "cell_type": "code",
   "execution_count": 115,
   "id": "cae5988e",
   "metadata": {},
   "outputs": [
    {
     "data": {
      "text/plain": [
       "5378.555384370207"
      ]
     },
     "execution_count": 115,
     "metadata": {},
     "output_type": "execute_result"
    }
   ],
   "source": [
    "total"
   ]
  },
  {
   "cell_type": "code",
   "execution_count": 116,
   "id": "f3659989",
   "metadata": {},
   "outputs": [
    {
     "data": {
      "text/plain": [
       "5401.319975291197"
      ]
     },
     "execution_count": 116,
     "metadata": {},
     "output_type": "execute_result"
    }
   ],
   "source": [
    "total2"
   ]
  },
  {
   "cell_type": "code",
   "execution_count": 117,
   "id": "c7bc3194",
   "metadata": {},
   "outputs": [
    {
     "data": {
      "text/plain": [
       "array([0.17703213, 0.04263402, 0.09203868, 0.0088958 , 0.00278885,\n",
       "       0.23570623, 0.11550206, 0.08801705, 0.0464122 , 0.19097298])"
      ]
     },
     "execution_count": 117,
     "metadata": {},
     "output_type": "execute_result"
    }
   ],
   "source": [
    "melhores_pesos"
   ]
  },
  {
   "cell_type": "code",
   "execution_count": null,
   "id": "6c3c4d1a",
   "metadata": {},
   "outputs": [],
   "source": []
  },
  {
   "cell_type": "code",
   "execution_count": 118,
   "id": "4b60c479",
   "metadata": {},
   "outputs": [
    {
     "data": {
      "text/plain": [
       "(5378.56, 5401.32, 0.9957862152214645)"
      ]
     },
     "execution_count": 118,
     "metadata": {},
     "output_type": "execute_result"
    }
   ],
   "source": [
    "total.round(2), total2.round(2), total.round(2) /total2.round(2)"
   ]
  },
  {
   "cell_type": "code",
   "execution_count": 119,
   "id": "c363110e",
   "metadata": {},
   "outputs": [
    {
     "data": {
      "text/plain": [
       "<matplotlib.collections.PathCollection at 0x7f99aeb0d1c0>"
      ]
     },
     "execution_count": 119,
     "metadata": {},
     "output_type": "execute_result"
    },
    {
     "data": {
      "image/png": "[encoded data removed]",
      "text/plain": [
       "<Figure size 1000x800 with 2 Axes>"
      ]
     },
     "metadata": {},
     "output_type": "display_data"
    }
   ],
   "source": [
    "plt.figure(figsize=(10,8))\n",
    "plt.scatter(ls_volatilidade, ls_retorno, c=ls_sharpe_ratio)\n",
    "plt.colorbar(label='Sharpe ratio')\n",
    "plt.xlabel('Volatilidade')\n",
    "plt.ylabel('Retorno')\n",
    "plt.scatter(melhor_volatilidade, melhor_retorno, c= 'black', s=100)"
   ]
  },
  {
   "cell_type": "code",
   "execution_count": null,
   "id": "5ea71825",
   "metadata": {},
   "outputs": [],
   "source": []
  }
 ],
 "metadata": {
  "kernelspec": {
   "display_name": "Python 3 (ipykernel)",
   "language": "python",
   "name": "python3"
  },
  "language_info": {
   "codemirror_mode": {
    "name": "ipython",
    "version": 3
   },
   "file_extension": ".py",
   "mimetype": "text/x-python",
   "name": "python",
   "nbconvert_exporter": "python",
   "pygments_lexer": "ipython3",
   "version": "3.8.5"
  }
 },
 "nbformat": 4,
 "nbformat_minor": 5
}
